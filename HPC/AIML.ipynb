{
 "cells": [
  {
   "cell_type": "code",
   "execution_count": 1,
   "id": "324b5b86",
   "metadata": {},
   "outputs": [],
   "source": [
    "import tensorflow as tf\n",
    "\n",
    "model = tf.keras.models.Sequential([tf.keras.layers.Conv2D(32, (3, 3), activation='relu', input_shape=(28, 28, 1)), tf.keras.layers.MaxPooling2D((2, 2)), tf.keras.layers.Flatten(), tf.keras.layers.Dense(10, activation='softmax')])"
   ]
  },
  {
   "cell_type": "code",
   "execution_count": 2,
   "id": "3d0ff838",
   "metadata": {},
   "outputs": [],
   "source": [
    "mnist = tf.keras.datasets.mnist\n",
    "\n",
    "(x_train, y_train), (x_test, y_test) = mnist.load_data() \n",
    "x_train, x_test = x_train / 255.0, x_test / 255.0 "
   ]
  },
  {
   "cell_type": "code",
   "execution_count": 3,
   "id": "81d7be66",
   "metadata": {},
   "outputs": [],
   "source": [
    "from mpi4py import MPI\n",
    "\n",
    "comm = MPI.COMM_WORLD\n",
    "rank = comm.Get_rank()\n",
    "size = comm.Get_size()"
   ]
  },
  {
   "cell_type": "code",
   "execution_count": 1,
   "id": "08dbcf06",
   "metadata": {},
   "outputs": [
    {
     "name": "stdout",
     "output_type": "stream",
     "text": [
      "Object `model.compile` not found.\n"
     ]
    }
   ],
   "source": [
    "def train(model, x_train, y_train, rank, size):\n",
    "    \n",
    "    n = len(x_train)\n",
    "    chunk_size = n // size \n",
    "    start = rank * chunk_size \n",
    "    end = (rank + 1) * chunk_size\n",
    "\n",
    "    if rank == size - 1:\n",
    "        end = n\n",
    "\n",
    "    x_train_chunk = x_train[start:end] \n",
    "    y_train_chunk = y_train[start:end]\n",
    "    \n",
    "    model.compile(optimizer='adam', loss='sparse_categorical_crossentropy', metrics=['accuracy'])\n",
    "    model.fit(x_train_chunk, y_train_chunk, epochs=1, batch_size=32)\n",
    "    train_loss, train_acc = model.evaluate(x_train_chunk, y_train_chunk, verbose=2) \n",
    "    train_acc = comm.allreduce(train_acc, op=MPI.SUM)\n",
    "    model.compile??\n",
    "    \n",
    "    \n",
    "    return train_acc / size\n",
    "\n",
    "model.compile"
   ]
  },
  {
   "cell_type": "code",
   "execution_count": 5,
   "id": "caf44be5",
   "metadata": {
    "scrolled": true
   },
   "outputs": [
    {
     "name": "stdout",
     "output_type": "stream",
     "text": [
      "1875/1875 [==============================] - 42s 20ms/step - loss: 0.2107 - accuracy: 0.9412\n",
      "1875/1875 - 14s - loss: 0.0941 - accuracy: 0.9727 - 14s/epoch - 7ms/step\n",
      "313/313 - 3s - loss: 0.0975 - accuracy: 0.9710 - 3s/epoch - 8ms/step\n",
      "Epoch 1: Train accuracy = 0.9727, Test accuracy = 0.9710\n",
      "1875/1875 [==============================] - 41s 21ms/step - loss: 0.0800 - accuracy: 0.9764\n",
      "1875/1875 - 14s - loss: 0.0574 - accuracy: 0.9834 - 14s/epoch - 7ms/step\n",
      "313/313 - 2s - loss: 0.0637 - accuracy: 0.9789 - 2s/epoch - 8ms/step\n",
      "Epoch 2: Train accuracy = 0.9834, Test accuracy = 0.9789\n",
      "1875/1875 [==============================] - 37s 19ms/step - loss: 0.0600 - accuracy: 0.9819\n",
      "1875/1875 - 13s - loss: 0.0477 - accuracy: 0.9866 - 13s/epoch - 7ms/step\n",
      "313/313 - 3s - loss: 0.0614 - accuracy: 0.9807 - 3s/epoch - 8ms/step\n",
      "Epoch 3: Train accuracy = 0.9866, Test accuracy = 0.9807\n",
      "1875/1875 [==============================] - 39s 20ms/step - loss: 0.0493 - accuracy: 0.9852\n",
      "1875/1875 - 13s - loss: 0.0432 - accuracy: 0.9867 - 13s/epoch - 7ms/step\n",
      "313/313 - 2s - loss: 0.0645 - accuracy: 0.9795 - 2s/epoch - 7ms/step\n",
      "Epoch 4: Train accuracy = 0.9867, Test accuracy = 0.9795\n",
      "1875/1875 [==============================] - 37s 19ms/step - loss: 0.0411 - accuracy: 0.9877\n",
      "1875/1875 - 14s - loss: 0.0286 - accuracy: 0.9918 - 14s/epoch - 7ms/step\n",
      "313/313 - 3s - loss: 0.0528 - accuracy: 0.9830 - 3s/epoch - 8ms/step\n",
      "Epoch 5: Train accuracy = 0.9918, Test accuracy = 0.9830\n"
     ]
    }
   ],
   "source": [
    "epochs = 5\n",
    "\n",
    "for epoch in range(epochs): \n",
    "    \n",
    "    train_acc = train(model, x_train, y_train, rank, size) \n",
    "    test_loss, test_acc = model.evaluate(x_test, y_test, verbose=2) \n",
    "    test_acc = comm.allreduce(test_acc, op=MPI.SUM)\n",
    "\n",
    "    if rank == 0:\n",
    "        print(f\"Epoch {epoch + 1}: Train accuracy = {train_acc:.4f}, Test accuracy = {test_acc / size:.4f}\")"
   ]
  },
  {
   "cell_type": "code",
   "execution_count": null,
   "id": "41e37222",
   "metadata": {},
   "outputs": [],
   "source": [
    "model.c"
   ]
  }
 ],
 "metadata": {
  "kernelspec": {
   "display_name": "Python 3 (ipykernel)",
   "language": "python",
   "name": "python3"
  },
  "language_info": {
   "codemirror_mode": {
    "name": "ipython",
    "version": 3
   },
   "file_extension": ".py",
   "mimetype": "text/x-python",
   "name": "python",
   "nbconvert_exporter": "python",
   "pygments_lexer": "ipython3",
   "version": "3.9.7"
  }
 },
 "nbformat": 4,
 "nbformat_minor": 5
}
